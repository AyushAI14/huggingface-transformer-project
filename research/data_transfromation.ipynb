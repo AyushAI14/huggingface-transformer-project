{
 "cells": [
  {
   "cell_type": "code",
   "execution_count": 3,
   "id": "2d7c4ad7",
   "metadata": {},
   "outputs": [
    {
     "data": {
      "text/plain": [
       "2"
      ]
     },
     "execution_count": 3,
     "metadata": {},
     "output_type": "execute_result"
    }
   ],
   "source": [
    "1+1"
   ]
  },
  {
   "cell_type": "code",
   "execution_count": 6,
   "id": "e9fa15b5",
   "metadata": {},
   "outputs": [
    {
     "data": {
      "text/plain": [
       "'/home/ayush/Documents/AI/Projects/huggingface-transformer-project/research'"
      ]
     },
     "execution_count": 6,
     "metadata": {},
     "output_type": "execute_result"
    }
   ],
   "source": [
    "pwd\n"
   ]
  },
  {
   "cell_type": "code",
   "execution_count": 7,
   "id": "73e8f7b6",
   "metadata": {},
   "outputs": [
    {
     "name": "stdout",
     "output_type": "stream",
     "text": [
      "/home/ayush/Documents/AI/Projects/huggingface-transformer-project\n"
     ]
    }
   ],
   "source": [
    "cd .."
   ]
  },
  {
   "cell_type": "markdown",
   "id": "fe7903cb",
   "metadata": {},
   "source": [
    "## config setup"
   ]
  },
  {
   "cell_type": "code",
   "execution_count": 37,
   "id": "22f50160",
   "metadata": {},
   "outputs": [],
   "source": [
    "from dataclasses import dataclass\n",
    "from pathlib import Path\n",
    "\n",
    "@dataclass\n",
    "class DataTransformationConfig:\n",
    "    root_dir: Path\n",
    "    data_path: Path\n",
    "    tokenizer_name: str\n",
    "    train_path: Path\n",
    "    val_path: Path\n",
    "    test_path: Path\n"
   ]
  },
  {
   "cell_type": "code",
   "execution_count": 38,
   "id": "af39de8a",
   "metadata": {},
   "outputs": [],
   "source": [
    "from src.constants import *\n",
    "from src.utils.common import read_yaml_file,createDirs"
   ]
  },
  {
   "cell_type": "markdown",
   "id": "358c5708",
   "metadata": {},
   "source": [
    "## Config Manager Update"
   ]
  },
  {
   "cell_type": "code",
   "execution_count": 39,
   "id": "cfd5a756",
   "metadata": {},
   "outputs": [],
   "source": [
    "class ConfigurationManager:\n",
    "    def __init__(self,\n",
    "                 config_path=CONFIG_FILE_PATH,\n",
    "                 param_path=PARAMS_FILE_PATH):\n",
    "        self.config = read_yaml_file(config_path)\n",
    "        self.params = read_yaml_file(param_path)\n",
    "        createDirs([self.config.artifacts_root])\n",
    "\n",
    "\n",
    "    def get_data_transformation_config(self)-> DataTransformationConfig:\n",
    "        config=self.config.data_transformation \n",
    "        createDirs([config.root_dir])\n",
    "\n",
    "        data_transformation_config = DataTransformationConfig(\n",
    "            root_dir=Path(config.root_dir),\n",
    "            data_path=Path(config.data_path),\n",
    "            tokenizer_name=str(config.tokenizer_name),\n",
    "            train_path=Path(config.train_path),\n",
    "            val_path=Path(config.val_path),\n",
    "            test_path=Path(config.test_path)\n",
    "        )\n",
    "        return data_transformation_config "
   ]
  },
  {
   "cell_type": "code",
   "execution_count": 40,
   "id": "8754ee94",
   "metadata": {},
   "outputs": [],
   "source": [
    "import os\n",
    "from src.logging import logger\n",
    "from transformers import AutoTokenizer\n",
    "from datasets import load_from_disk,Dataset\n",
    "import pandas as pd"
   ]
  },
  {
   "cell_type": "code",
   "execution_count": 41,
   "id": "db915817",
   "metadata": {},
   "outputs": [],
   "source": [
    "class DataTransformation:\n",
    "    def __init__(self, config: DataTransformationConfig):\n",
    "        self.config = config\n",
    "        self.tokenizer = AutoTokenizer.from_pretrained(config.tokenizer_name)\n",
    "\n",
    "    def converting_into_s2s(self, row):\n",
    "        dialogue = str(row['dialogue']) if pd.notnull(row['dialogue']) else \"\"\n",
    "        summary = str(row['summary']) if pd.notnull(row['summary']) else \"\"\n",
    "        \n",
    "        input_encoding = self.tokenizer(dialogue, max_length=1024, truncation=True)\n",
    "        target_encoding = self.tokenizer(text_target=summary, max_length=1024, truncation=True)\n",
    "\n",
    "        row['input_ids'] = input_encoding['input_ids']\n",
    "        row['attention_mask'] = input_encoding['attention_mask']\n",
    "        row['labels'] = target_encoding['input_ids']\n",
    "        return row\n",
    "\n",
    "\n",
    "    def convert(self):\n",
    "        df_train = pd.read_csv(self.config.train_path)\n",
    "        df_val = pd.read_csv(self.config.val_path)\n",
    "        df_test = pd.read_csv(self.config.test_path)\n",
    "\n",
    "        tokenized_df_train = df_train.apply(self.converting_into_s2s, axis=1).reset_index(drop=True)\n",
    "        tokenized_df_val = df_val.apply(self.converting_into_s2s, axis=1).reset_index(drop=True)\n",
    "        tokenized_df_test = df_test.apply(self.converting_into_s2s, axis=1).reset_index(drop=True)\n",
    "\n",
    "        train_dataset = Dataset.from_pandas(tokenized_df_train)\n",
    "        val_dataset = Dataset.from_pandas(tokenized_df_val)\n",
    "        test_dataset = Dataset.from_pandas(tokenized_df_test)\n",
    "\n",
    "        train_dataset.save_to_disk(os.path.join(self.config.root_dir, \"samsum-dataset\", \"train\"))\n",
    "        val_dataset.save_to_disk(os.path.join(self.config.root_dir, \"samsum-dataset\", \"val\"))\n",
    "        test_dataset.save_to_disk(os.path.join(self.config.root_dir, \"samsum-dataset\", \"test\"))\n"
   ]
  },
  {
   "cell_type": "code",
   "execution_count": 42,
   "id": "bee1c8e7",
   "metadata": {},
   "outputs": [
    {
     "name": "stdout",
     "output_type": "stream",
     "text": [
      "[2025-06-05 15:19:08,360: INFO: common: Created directory at: artifacts]\n",
      "[2025-06-05 15:19:08,365: INFO: common: Created directory at: artifacts/data_transformation]\n"
     ]
    },
    {
     "name": "stderr",
     "output_type": "stream",
     "text": [
      "Saving the dataset (1/1 shards): 100%|██████████| 14732/14732 [00:00<00:00, 150288.43 examples/s]\n",
      "Saving the dataset (1/1 shards): 100%|██████████| 818/818 [00:00<00:00, 53442.28 examples/s]\n",
      "Saving the dataset (1/1 shards): 100%|██████████| 819/819 [00:00<00:00, 49773.02 examples/s]\n"
     ]
    }
   ],
   "source": [
    "config = ConfigurationManager()\n",
    "data_tranformation_config = config.get_data_transformation_config()\n",
    "datatransformation=DataTransformation(config=data_tranformation_config)\n",
    "datatransformation.convert()"
   ]
  },
  {
   "cell_type": "code",
   "execution_count": null,
   "id": "0eb4588c",
   "metadata": {},
   "outputs": [],
   "source": []
  }
 ],
 "metadata": {
  "kernelspec": {
   "display_name": "env",
   "language": "python",
   "name": "python3"
  },
  "language_info": {
   "codemirror_mode": {
    "name": "ipython",
    "version": 3
   },
   "file_extension": ".py",
   "mimetype": "text/x-python",
   "name": "python",
   "nbconvert_exporter": "python",
   "pygments_lexer": "ipython3",
   "version": "3.12.3"
  }
 },
 "nbformat": 4,
 "nbformat_minor": 5
}
